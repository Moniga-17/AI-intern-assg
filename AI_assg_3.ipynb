{
  "nbformat": 4,
  "nbformat_minor": 0,
  "metadata": {
    "colab": {
      "provenance": [],
      "toc_visible": true,
      "authorship_tag": "ABX9TyOqavOyftGtXXcr0LHMJ/Cn",
      "include_colab_link": true
    },
    "kernelspec": {
      "name": "python3",
      "display_name": "Python 3"
    },
    "language_info": {
      "name": "python"
    }
  },
  "cells": [
    {
      "cell_type": "markdown",
      "metadata": {
        "id": "view-in-github",
        "colab_type": "text"
      },
      "source": [
        "<a href=\"https://colab.research.google.com/github/Moniga-17/AI-intern-assg/blob/main/AI_assg_3.ipynb\" target=\"_parent\"><img src=\"https://colab.research.google.com/assets/colab-badge.svg\" alt=\"Open In Colab\"/></a>"
      ]
    },
    {
      "cell_type": "code",
      "source": [
        "from IPython.display import display, HTML\n",
        "\n",
        "# Read the HTML file\n",
        "with open('/content/bot.html', 'r') as file:\n",
        "    html_content = file.read()\n",
        "\n",
        "# Display the HTML content\n",
        "display(HTML(html_content))\n"
      ],
      "metadata": {
        "colab": {
          "base_uri": "https://localhost:8080/",
          "height": 17
        },
        "id": "gbYL_1-inIvI",
        "outputId": "07c258a8-f1e5-457a-d562-2967ba05091c"
      },
      "execution_count": 6,
      "outputs": [
        {
          "output_type": "display_data",
          "data": {
            "text/plain": [
              "<IPython.core.display.HTML object>"
            ],
            "text/html": [
              "<script>\n",
              "window.embeddedChatbotConfig = {\n",
              "chatbotId: \"3oul3ymV6JrfqoqWpU1NF\",\n",
              "domain: \"www.chatbase.co\"\n",
              "}\n",
              "</script>\n",
              "<script\n",
              "src=\"https://www.chatbase.co/embed.min.js\"\n",
              "chatbotId=\"3oul3ymV6JrfqoqWpU1NF\"\n",
              "domain=\"www.chatbase.co\"\n",
              "defer>\n",
              "</script>\n",
              "\n"
            ]
          },
          "metadata": {}
        }
      ]
    },
    {
      "cell_type": "code",
      "source": [],
      "metadata": {
        "id": "YxqfiNAJoVTx"
      },
      "execution_count": null,
      "outputs": []
    }
  ]
}